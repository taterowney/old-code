{
 "cells": [
  {
   "cell_type": "code",
   "execution_count": 1,
   "metadata": {},
   "outputs": [],
   "source": [
    "from sympy import *\n",
    "from IPython.display import display, Math, Markdown\n",
    "import matplotlib.pyplot as mpl"
   ]
  },
  {
   "cell_type": "markdown",
   "metadata": {},
   "source": [
    "# Init Printing"
   ]
  },
  {
   "cell_type": "code",
   "execution_count": 2,
   "metadata": {},
   "outputs": [],
   "source": [
    "init_printing(use_latex='mathjax')"
   ]
  },
  {
   "cell_type": "code",
   "execution_count": 3,
   "metadata": {},
   "outputs": [],
   "source": [
    "def displayEquality(expr1, expr2):\n",
    "    display(Math(latex(expr1) + '\\ = \\ ' + latex(expr2)))"
   ]
  },
  {
   "cell_type": "code",
   "execution_count": 4,
   "metadata": {},
   "outputs": [
    {
     "data": {
      "text/latex": [
       "$\\displaystyle \\int e^x\\ = \\ e^x$"
      ],
      "text/plain": [
       "<IPython.core.display.Math object>"
      ]
     },
     "metadata": {},
     "output_type": "display_data"
    }
   ],
   "source": [
    "displayEquality('\\int e^x', 'e^x')"
   ]
  },
  {
   "cell_type": "markdown",
   "metadata": {},
   "source": [
    "# Introduction to the Product Rule"
   ]
  },
  {
   "cell_type": "markdown",
   "metadata": {},
   "source": [
    "$ Let\\ h(x) = f(x)\\times g(x) $\n",
    "\n",
    "What is the derivative of h if you know the derivative of f and g?\n",
    "\n",
    "Throughout calculus, the notation of derivatives differs a bunch\n",
    "\n",
    "One of the notations for the derivative of h is just $ h^{\\prime} $ \n",
    "\n",
    "So in this notation, the product rule is\n",
    "\n",
    "$\\ \\ \\ \\  h^{\\prime} = f^{\\prime} g + f g^{\\prime} $"
   ]
  },
  {
   "cell_type": "markdown",
   "metadata": {},
   "source": [
    "# Chain Rule"
   ]
  },
  {
   "cell_type": "markdown",
   "metadata": {},
   "source": [
    "$ Let\\ f(x) = g(h(x)) $\n",
    "\n",
    "What is the derivative of f with respect to x?\n",
    "\n",
    "It works out to be\n",
    "\n",
    "$ f^{\\prime} = {d(g)\\over d(h)}(h(x))\\ {d(h)\\over d(x)}(x) $\n",
    "\n",
    "This basically means \"The derivative of $ g $, applied to $ h(x) $; times the derivative of $ h(x) $.\""
   ]
  },
  {
   "cell_type": "markdown",
   "metadata": {},
   "source": [
    "# derivative of x squared (with product rule)"
   ]
  },
  {
   "cell_type": "markdown",
   "metadata": {},
   "source": [
    "Say we have two functions, $ g(x)=x $ and $ h(x)=x $, and we define $ f(x) $ as $ g(x)\\times h(x)\\Rightarrow $.\n",
    "\n",
    "We know from the product rule"
   ]
  },
  {
   "cell_type": "code",
   "execution_count": null,
   "metadata": {},
   "outputs": [],
   "source": []
  }
 ],
 "metadata": {
  "kernelspec": {
   "display_name": "Python 3",
   "language": "python",
   "name": "python3"
  },
  "language_info": {
   "codemirror_mode": {
    "name": "ipython",
    "version": 3
   },
   "file_extension": ".py",
   "mimetype": "text/x-python",
   "name": "python",
   "nbconvert_exporter": "python",
   "pygments_lexer": "ipython3",
   "version": "3.7.4"
  }
 },
 "nbformat": 4,
 "nbformat_minor": 2
}
