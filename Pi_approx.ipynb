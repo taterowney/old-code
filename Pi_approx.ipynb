{
 "cells": [
  {
   "cell_type": "code",
   "execution_count": 5,
   "metadata": {},
   "outputs": [
    {
     "name": "stdout",
     "output_type": "stream",
     "text": [
      "3.1410436\n"
     ]
    }
   ],
   "source": [
    "import random\n",
    "in_square = in_circle = pi = 0\n",
    "for i in range(10000000):\n",
    "    x = random.random()\n",
    "    y = random.random()\n",
    "    dist = (x*x+y*y)**0.5\n",
    "    in_square+=1\n",
    "    if dist <= 1.0:\n",
    "        in_circle+=1\n",
    "pi=4*in_circle/in_square\n",
    "print(pi)"
   ]
  },
  {
   "cell_type": "code",
   "execution_count": null,
   "metadata": {},
   "outputs": [],
   "source": []
  }
 ],
 "metadata": {
  "kernelspec": {
   "display_name": "Python 3",
   "language": "python",
   "name": "python3"
  },
  "language_info": {
   "codemirror_mode": {
    "name": "ipython",
    "version": 3
   },
   "file_extension": ".py",
   "mimetype": "text/x-python",
   "name": "python",
   "nbconvert_exporter": "python",
   "pygments_lexer": "ipython3",
   "version": "3.7.4"
  }
 },
 "nbformat": 4,
 "nbformat_minor": 2
}
